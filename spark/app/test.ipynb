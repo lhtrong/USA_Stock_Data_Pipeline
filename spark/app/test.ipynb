{
 "cells": [
  {
   "cell_type": "code",
   "execution_count": 1,
   "id": "5677b9c9",
   "metadata": {},
   "outputs": [
    {
     "name": "stderr",
     "output_type": "stream",
     "text": [
      "23/05/07 16:04:25 WARN Utils: Your hostname, dell resolves to a loopback address: 127.0.1.1; using fd01:db8:1111:0:0:0:0:2 instead (on interface lo)\n",
      "23/05/07 16:04:25 WARN Utils: Set SPARK_LOCAL_IP if you need to bind to another address\n",
      "Setting default log level to \"WARN\".\n",
      "To adjust logging level use sc.setLogLevel(newLevel). For SparkR, use setLogLevel(newLevel).\n",
      "23/05/07 16:04:25 WARN NativeCodeLoader: Unable to load native-hadoop library for your platform... using builtin-java classes where applicable\n"
     ]
    }
   ],
   "source": [
    "import pyspark\n",
    "from pyspark.sql import SparkSession\n",
    "from pyspark import SparkContext\n",
    "import requests\n",
    "from pyspark.sql import functions as F\n",
    "from pyspark.sql import types\n",
    "\n",
    "sc = SparkContext()\n",
    "spark = SparkSession.builder \\\n",
    "    .appName('test') \\\n",
    "    .getOrCreate()\n",
    "\n"
   ]
  },
  {
   "cell_type": "code",
   "execution_count": null,
   "id": "847452d3",
   "metadata": {},
   "outputs": [],
   "source": [
    "\n",
    "symbol = ['AAPL', 'MSFT', 'GOOG', 'AMZN', 'TSLA', 'META', 'NFLX', 'NVDA']\n",
    "\n",
    "url = 'https://api.twelvedata.com/time_series'\n",
    "\n",
    "schema = types.StructType([\n",
    "    types.StructField(\"close\", types.FloatType(), True),\n",
    "    types.StructField(\"high\", types.FloatType(), True),\n",
    "    types.StructField(\"loew\", types.FloatType(), True),\n",
    "    types.StructField(\"open\", types.FloatType(), True),\n",
    "    types.StructField(\"volume\", types.IntegerType(), True),\n",
    "    types.StructField(\"symbol\", types.StringType(), True),\n",
    "    types.StructField(\"datetime\", types.StringType(), True)\n",
    "])\n",
    "\n",
    "for sym in symbol:\n",
    "    params = {'symbol': sym, 'interval': '1h','date':'2019-01-11', 'apikey': '2efb4e0c80a041b794abaf4369e76869', 'timezone':'America/New_York'}\n",
    "\n",
    "    response = requests.get(url, params=params)\n",
    "\n",
    "    if response.status_code == requests.codes.ok:\n",
    "        data = response.json()\n",
    "        print(data)\n",
    "        df = spark.read.json(sc.parallelize([data['values']]))\n",
    "        df = df.withColumn(\"symbol\", F.lit(sym))\n",
    "        \n",
    "        df = df.withColumn(\"datetime\", F.to_timestamp(\"datetime\", \"yyyy-MM-dd HH:mm:ss\"))\n",
    "        df = df.withColumn(\"close\", df[\"close\"].cast(types.FloatType()))\n",
    "        df = df.withColumn(\"high\", df[\"high\"].cast(types.FloatType()))\n",
    "        df = df.withColumn(\"low\", df[\"low\"].cast(types.FloatType()))\n",
    "        df = df.withColumn(\"open\", df[\"open\"].cast(types.FloatType()))\n",
    "        df = df.withColumn(\"volume\", df[\"volume\"].cast(types.IntegerType()))\n",
    "        df = df.withColumn(\"symbol\", df[\"symbol\"].cast(types.StringType()))\n",
    "        df = df.withColumn(\"datetime\", df[\"datetime\"].cast(types.TimestampType()))\n",
    "\n",
    "\n",
    "#         df = spark.createDataFrame(df.rdd, schema=schema)\n",
    "        print(df.schema)\n",
    "        df.show()\n",
    "        # Write the data to a Parquet file partitioned by date\n",
    "        df.coalesce(1).write.mode(\"append\").parquet(\"stock_data/2019/01\")\n",
    "    else:\n",
    "        print('Error:', response.status_code, response.text)\n"
   ]
  }
 ],
 "metadata": {
  "kernelspec": {
   "display_name": "Python 3 (ipykernel)",
   "language": "python",
   "name": "python3"
  },
  "language_info": {
   "codemirror_mode": {
    "name": "ipython",
    "version": 3
   },
   "file_extension": ".py",
   "mimetype": "text/x-python",
   "name": "python",
   "nbconvert_exporter": "python",
   "pygments_lexer": "ipython3",
   "version": "3.10.9"
  }
 },
 "nbformat": 4,
 "nbformat_minor": 5
}
